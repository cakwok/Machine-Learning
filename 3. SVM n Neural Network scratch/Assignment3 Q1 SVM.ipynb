{
  "nbformat": 4,
  "nbformat_minor": 0,
  "metadata": {
    "colab": {
      "name": "Assignment3 - Q1 SVM.ipynb",
      "provenance": [],
      "collapsed_sections": [],
      "mount_file_id": "1XiiYAdNFWJS2pG1HFY2Jik7sP3R0NhqO",
      "authorship_tag": "ABX9TyPkG6k4NpMyBk6kSaAHNKtH"
    },
    "kernelspec": {
      "name": "python3",
      "display_name": "Python 3"
    },
    "language_info": {
      "name": "python"
    }
  },
  "cells": [
    {
      "cell_type": "code",
      "source": [
        "'''\n",
        "CS6140 Assignment 3\n",
        "Q1.  Implement SVM from scratch\n",
        "Wing Man, Kwok\n",
        "1 Jul 2022\n",
        "'''"
      ],
      "metadata": {
        "id": "jx2934jnSWoC",
        "colab": {
          "base_uri": "https://localhost:8080/",
          "height": 35
        },
        "outputId": "2abb2d83-1222-4442-d0bb-4cd1bfcc5227"
      },
      "execution_count": 1,
      "outputs": [
        {
          "output_type": "execute_result",
          "data": {
            "text/plain": [
              "'\\nCS6140 Assignment 3\\nQ1.  Implement SVM from scratch\\nWing Man, Kwok\\n1 Jul 2022\\n'"
            ],
            "application/vnd.google.colaboratory.intrinsic+json": {
              "type": "string"
            }
          },
          "metadata": {},
          "execution_count": 1
        }
      ]
    },
    {
      "cell_type": "code",
      "execution_count": 2,
      "metadata": {
        "id": "6q0xqTlut9lM"
      },
      "outputs": [],
      "source": [
        "#Q1 Implement SVM from scratch\n",
        "\n",
        "import numpy as np\n",
        "import random\n",
        "import matplotlib.pyplot as plt                                 #To plot scatter plot\n",
        "from scipy.optimize import minimize, LinearConstraint           #For SVM optimization\n",
        "from scipy.optimize import Bounds, BFGS                         #For SVM optimization\n",
        "import scipy.linalg"
      ]
    },
    {
      "cell_type": "code",
      "source": [
        "#1.1 Generate and visualize data\n",
        "def gen_data():\n",
        "    np.random.seed(105)\n",
        "    Positive = np.concatenate((np.random.randn(10, 2) * 0.4 + [1.5, -0.5],\n",
        "                             np.random.randn(10, 2) * 0.4 + [-1.5, 0.5]))\n",
        "    Negative = np.random.randn(20, 2) * 0.3 + [0.0, -0.9]\n",
        "\n",
        "    return Positive, Negative"
      ],
      "metadata": {
        "id": "_2E9BcNd82xH"
      },
      "execution_count": 3,
      "outputs": []
    },
    {
      "cell_type": "code",
      "source": [
        "#1.2 Plot data\n",
        "def plot_data(Positive, Negative):\n",
        "  x_axis_range = np.linspace(-2.5, 2.5, 20)\n",
        "  plt.scatter(Positive[:, 0], Positive[:, 1], color = \"b\")\n",
        "  plt.scatter(Negative[:, 0], Negative[:, 1], color = \"r\")"
      ],
      "metadata": {
        "id": "a3vC1sbIwXa8"
      },
      "execution_count": 4,
      "outputs": []
    },
    {
      "cell_type": "code",
      "source": [
        "#1.3 Fit SVM with linear kernel with slack variable\n",
        "def lagrange_dual(alpha, x, y, ZERO, c, kernel):\n",
        "\n",
        "    result = 0\n",
        "    non_zero_alphas = np.where(alpha > ZERO)[0]\n",
        "\n",
        "    if kernel == linear_kernel:\n",
        "      for i in non_zero_alphas:\n",
        "          for k in non_zero_alphas:\n",
        "              #result = result + alpha[i]*alpha[k]*y[i]*y[k]*np.dot(x[i, :], x[k, :]) \n",
        "              result = result + alpha[i]*alpha[k]*y[i]*y[k]*linear_kernel(x[i, :], x[k, :])\n",
        "    elif kernel == polynomial_kernel:\n",
        "      for i in non_zero_alphas:\n",
        "          for k in non_zero_alphas:\n",
        "              result = result + alpha[i]*alpha[k]*y[i]*y[k]*polynomial_kernel(x[i, :], x[k, :],c, p=2)\n",
        "\n",
        "    result = 0.5*result - sum(alpha)     \n",
        "\n",
        "    return result"
      ],
      "metadata": {
        "id": "61Ay0J_TXV4a"
      },
      "execution_count": 5,
      "outputs": []
    },
    {
      "cell_type": "code",
      "source": [
        "def linear_kernel(x, y, **kwargs):\n",
        "    # insert your code here \n",
        "    # return linear kernel output\n",
        "    return np.dot(x, y)"
      ],
      "metadata": {
        "id": "Hds5AdehBq62"
      },
      "execution_count": 6,
      "outputs": []
    },
    {
      "cell_type": "code",
      "source": [
        "def fit(X, Y, ZERO, C=None, kernel=None, **kwargs):\n",
        "  \n",
        "    '''\n",
        "    X: input_data (Nx2) numpy array\n",
        "    Y: binary target variable (N,) numpy array\n",
        "    C: The slack variable\n",
        "    kernel: kernel function (linear or polynomial)\n",
        "    kwargs: dictionary of arguments\n",
        "    '''\n",
        "    # insert your code here\n",
        "    # Apply optimization of dual function (Equation 7.10: Bishop)\n",
        "    # make use of minimize()\n",
        "    # \n",
        "    m, n = X.shape\n",
        "    np.random.seed(1)\n",
        "    \n",
        "    alpha_0 = np.random.rand(m)*C                       # Initialize alphas to random values\n",
        "    linear_constraint = LinearConstraint(Y, [0], [0])   # Define the constraint\n",
        "    bounds_alpha = Bounds(np.zeros(m), np.full(m, C))   # Define the bounds\n",
        "\n",
        "    # Find the optimal value of alpha\n",
        "    result = minimize(lagrange_dual, alpha_0, args = (X, Y, ZERO, C, kernel), method='trust-constr', \n",
        "                      hess=BFGS(), constraints=[linear_constraint],\n",
        "                      bounds=bounds_alpha)\n",
        "    \n",
        "    # The optimized value of alpha lies in result.x\n",
        "    alpha = result.x\n",
        "    return alpha\n"
      ],
      "metadata": {
        "id": "oNTe21GZB_qU"
      },
      "execution_count": 7,
      "outputs": []
    },
    {
      "cell_type": "code",
      "source": [
        "#Q1.4 Linear Kernel decision boundary visualization\n",
        "\n",
        "def get_support_vectors(X, Y, lambdas, threshold=10e-5):\n",
        "  # insert your code here\n",
        "  # return support vectors, target variable values of the support vectors, lambdas of support vectoss\n",
        "  # remeber only lambdas >=0 are to be kept\n",
        "  s_vecs =  np.array([]); s_vecs_Y =  np.array([]); s_vecs_lambda =  np.array([])\n",
        "\n",
        "  for x, y, lambda_m in zip (X, Y, lambdas):\n",
        "    if lambda_m > threshold:\n",
        "      s_vecs = np.append(s_vecs, x)\n",
        "      s_vecs_Y = np.append(s_vecs_Y, y)\n",
        "      s_vecs_lambda = np.append(s_vecs_lambda, lambda_m)\n",
        "\n",
        "  return np.reshape(s_vecs, (-1, 2)), s_vecs_Y, s_vecs_lambda     #reshape a flattened s_vecs into shape = 10, 2, otherwise it's 20, 1"
      ],
      "metadata": {
        "id": "arKolSDvCgVq"
      },
      "execution_count": 8,
      "outputs": []
    },
    {
      "cell_type": "code",
      "source": [
        "def predict(test_point, s_vecs, s_vecs_Y, s_vecs_lambda, C, ZERO, kernel, kwargs):\n",
        "  '''\n",
        "  test_point: test datapoint\n",
        "  s_vecs: Support vectors \n",
        "  s_vecs_Y: target values of the Support vectors\n",
        "  s_vec_lambda: Dual variables corresponding to the support vectors\n",
        "  kernel, kwargs: kernel function (linear or polynomial)\n",
        "  '''\n",
        "  # insert your code here\n",
        "  # Apply support vectors to predict the class of test_point (Equation 7.13: Bishop)\n",
        "\n",
        "  #Calculate w1, w2\n",
        "  number_of_samples = len(s_vecs)\n",
        "  number_of_features = s_vecs.shape[1]\n",
        "\n",
        "  weight = np.zeros(number_of_features)             #Number of features is the number of weights we want to find\n",
        "\n",
        "  for i in range(number_of_samples):\n",
        "    weight = weight + s_vecs_lambda[i] * s_vecs_Y[i] * s_vecs[i, :]\n",
        "\n",
        "  #Calculate w0\n",
        "  constraint = C - ZERO                            #because C cannot equal to lambda, thus we prepare to find lambda < C\n",
        "  support_vendor_count = 0; w0 = 0\n",
        "\n",
        "  for x, y, lambda_m in zip (s_vecs, s_vecs_Y, s_vecs_lambda):\n",
        "    #print(\"lambda_m\", lambda_m, \"constraint\", constraint)\n",
        "    if lambda_m > constraint:\n",
        "      w0 = w0 + y - np.dot(x, weight)\n",
        "      support_vendor_count += 1\n",
        "  \n",
        "  #print(\"w0\", w0)\n",
        "  #print(\"support_vendor_count\", support_vendor_count)\n",
        "  w0 = w0 / support_vendor_count\n",
        "\n",
        "  if kernel == linear_kernel:\n",
        "    prediction = np.sum(test_point * weight) + w0\n",
        "  elif kernel == polynomial_kernel:\n",
        "    prediction = np.sum((test_point[0] * test_point[1] + 1) ** 2 * weight) + w0\n",
        "\n",
        "  prediction = np.sign(prediction)              #np.sign returns -1, 0, 1, thus manually put 0 into 1 for labelling\n",
        "  if prediction == 0:\n",
        "    prediction = 1\n",
        "\n",
        "  #print(\"prediction\", prediction)\n",
        "  #print(\"weight\", weight)\n",
        "\n",
        "  return prediction, w0, weight"
      ],
      "metadata": {
        "id": "maJbFuJ3QTDz"
      },
      "execution_count": 9,
      "outputs": []
    },
    {
      "cell_type": "code",
      "source": [
        "def plot_decision_boundary(Positive, Negative,\n",
        "                           ip_new,\n",
        "                           s_vecs, s_vecs_Y, s_vec_lambda,\n",
        "                           w0, weight, target_data,\n",
        "                           kernel, kwargs):\n",
        "  '''\n",
        "  Positive, Negative: Example datapoints from both classes\n",
        "  test_point: test data point (2, )\n",
        "  s_vecs: Support vectors\n",
        "  s_vecs_Y: Target variable values for the support vectors\n",
        "  s_vec_lambda: Dual variables corresponding to the support vectors\n",
        "  kernel, kwargs: kernel function (linear or polynomial)\n",
        "  '''\n",
        "  # make use of plt.contour() and plt.scatter()\n",
        "  # plot decision boundary along with margins\n",
        "\n",
        "  #plot hyperplane\n",
        "  x1_coord = np.array(plt.gca().get_xlim())                           #can use linspace or whatever, the important point is to generate corresponding x of y\n",
        "  x2_coord = np.array(plt.gca().get_ylim()) \n",
        "  x1_meshgrid, x2_meshgrid = np.meshgrid(x1_coord, x2_coord)          #creates x1, x2 pairs and subsitute into regression to come up with y\n",
        "  \n",
        "  if kernel == linear_kernel:\n",
        "    y_coord = w0 + weight[0] *  x1_meshgrid + weight[1] * x2_meshgrid\n",
        "    plt.contour(x1_coord, x2_coord, y_coord, levels=[-1, 0, 1], colors=[\"red\", \"black\", \"blue\"])\n",
        "\n",
        "    for x in Positive:\n",
        "      if w0 + weight[0] * x[0] + weight[1] * x[1] < 1:\n",
        "        plt.scatter(x[0], x[1], color = \"cyan\")\n",
        "\n",
        "    for x in Negative:\n",
        "      if -1 < w0 + weight[0] * x[0] + weight[1] * x[1]:\n",
        "        plt.scatter(x[0], x[1], color = \"violet\")\n",
        "\n",
        "  elif kernel == polynomial_kernel:\n",
        "    #y_coord =  w0 + np.sum(x1_meshgrid * weight[0]) + np.sum(x2_meshgrid * weight[0]) + np.sum(x1_meshgrid ** 2 * weight[1]) + np.sum(x2_meshgrid ** 2 * weight[1]) + np.sum(x1_meshgrid * x2_meshgrid * weight[1])\n",
        "    #y_coord =  w0 + x1_meshgrid * weight[0] + x2_meshgrid * weight[0] + x1_meshgrid ** 2 * weight[1] + x2_meshgrid ** 2 * weight[1] + x1_meshgrid * x2_meshgrid * weight[1]\n",
        "    y_coord =   w0 + x1_meshgrid**2 +  x2_meshgrid\n",
        "\n",
        "    '''\n",
        "    data = np.concatenate((Positive, Negative))\n",
        "    X,Y = np.meshgrid(np.arange(-3.0, 3.0, 0.5), np.arange(-3.0, 3.0, 0.5))\n",
        "    XX = X.flatten()\n",
        "    YY = Y.flatten()\n",
        "\n",
        "    A = np.c_[np.ones(data.shape[0]), data, np.prod(data, axis=1), data**2]\n",
        "    print(\"A\", A)\n",
        "    print(\"data\", data)\n",
        "    C,_,_,_ = scipy.linalg.lstsq(A, data)\n",
        "    print(\"C\", C)\n",
        "\n",
        "    print(\"np.dot(np.c_[np.ones(XX.shape), XX, YY, XX*YY, XX**2, YY**2], C)\")\n",
        "    print(np.dot(np.c_[np.ones(XX.shape), XX, YY, XX*YY, XX**2, YY**2], C))\n",
        "    print(np.dot(np.c_[np.ones(XX.shape), XX, YY, XX*YY, XX**2, YY**2], C).shape)\n",
        "    Z = np.dot(np.c_[np.ones(XX.shape), XX, YY, XX*YY, XX**2, YY**2], C).reshape(X.shape)\n",
        "    '''\n",
        "    plt.contour(x1_meshgrid , x1_meshgrid , y_coord, colors=[\"red\", \"black\", \"blue\"])\n",
        "\n",
        "  '''\n",
        "  print(\"x1_meshgrid\", x1_meshgrid)\n",
        "  print(\"x2_meshgrid\", x2_meshgrid)\n",
        "  print(\"x1_coord\", x1_coord)\n",
        "  print(\"x2_coord\", x2_coord)\n",
        "  #print(\"y\", y_coord)\n",
        "  '''\n",
        "  plt.xlabel(\"x1\")\n",
        "  plt.ylabel(\"x2\")\n",
        "  \n",
        "  plt.show()\n",
        "\n",
        "  '''\n",
        "  #backup - classify points with correct labels without considering margin\n",
        "  for x, y in zip(Positive, target_data[:20]):\n",
        "    #prediction = np.sum(x * weight) + w0\n",
        "    prediction = x[0] * weight[0] + x[1] * weight[1] + w0 \n",
        "    prediction = np.sign(prediction)                                   #np.sign returns -1, 0, 1, thus manually put 0 into 1 for labelling\n",
        "    if prediction == 0:\n",
        "      prediction = 1\n",
        "    if prediction != y:\n",
        "      plt.scatter(x[0], x[1], color = \"cyan\")\n",
        "  print(\"target_data[:20]\", target_data[:20])\n",
        "\n",
        "  for x, y in zip(Negative, target_data[21:]):\n",
        "    prediction = x[0] * weight[0] + x[1] * weight[1] + w0 \n",
        "    prediction = np.sign(prediction)                                   #np.sign returns -1, 0, 1, thus manually put 0 into 1 for labelling\n",
        "    if prediction == 0:\n",
        "      prediction = 1\n",
        "    if prediction != y:\n",
        "      plt.scatter(x[0], x[1], color = \"violet\")\n",
        "  print(\"target_data[21:]\", target_data[21:])\n",
        "  '''\n",
        "\n",
        "  return"
      ],
      "metadata": {
        "id": "fGMp-_1ASi2f"
      },
      "execution_count": 10,
      "outputs": []
    },
    {
      "cell_type": "code",
      "source": [
        "#Question 1.5 SVM with polynomial kernel\n",
        "def polynomial_kernel(x, y, c, p, **kwargs):\n",
        "  # insert your code here\n",
        "  # return polynomial kernel output\n",
        "\n",
        "  return  (x.dot(y.T) + c)**p"
      ],
      "metadata": {
        "id": "iNvdcAsv9mNh"
      },
      "execution_count": 11,
      "outputs": []
    },
    {
      "cell_type": "code",
      "source": [
        "def test_polynomial_kernel(X, Y, ZERO):\n",
        "    kernel = polynomial_kernel\n",
        "    #kwargs = {'p': 2}\n",
        "\n",
        "    lambdas = fit(X,\n",
        "                  Y, ZERO, \n",
        "                  C=5,  # slack variable\n",
        "                  kernel=kernel,\n",
        "                  p=2)\n",
        "    \n",
        "    # Get the alpha values for the support vectors, as well as their target data.\n",
        "    s_vecs, s_vecs_Y, s_vecs_alpha = get_support_vectors(X,\n",
        "                                                         Y,\n",
        "                                                         lambdas)\n",
        "\n",
        "    ip_new = np.array([-0.6, 0.75])\n",
        "    \n",
        "    prediciton, w0, weight = predict(ip_new,\n",
        "                                    s_vecs,\n",
        "                                    s_vecs_Y,\n",
        "                                    s_vecs_alpha, C, ZERO, \n",
        "                                    kernel,\n",
        "                                    kwargs={})\n",
        "\n",
        "    plot_data(Positive, Negative)\n",
        "\n",
        "    plot_decision_boundary(Positive, Negative,\n",
        "                           ip_new = np.array([-0.6, 0.75]),\n",
        "                           s_vecs = [],\n",
        "                           s_vecs_Y = [],\n",
        "                           s_vec_lambda = [],\n",
        "                           w0 = 0, weight = 0, target_data = [],\n",
        "                           kernel=kernel,\n",
        "                           kwargs={})"
      ],
      "metadata": {
        "id": "Vo8luy52-gWn"
      },
      "execution_count": 12,
      "outputs": []
    },
    {
      "cell_type": "code",
      "source": [
        "# Test code\n",
        "if __name__ == '__main__':\n",
        "\n",
        "    Positive, Negative = gen_data()\n",
        "    plot_data(Positive, Negative)\n",
        "    \n",
        "    X = np.concatenate((Positive, Negative))\n",
        "    target_data = np.concatenate((np.ones(Positive.shape[0]), -np.ones(Negative.shape[0])))\n",
        "\n",
        "    size = X.shape[0]\n",
        "    shuffle_data = list(range(size))      #range(40) means numbers  0 - 39 are created and lx12isted\n",
        "    random.shuffle(shuffle_data)\n",
        "    X = X[shuffle_data, :]\n",
        "    Y = target_data[shuffle_data]\n",
        "    ZERO = 1e-2\n",
        "    C = 5\n",
        "\n",
        "    #---------- linear hyperplane\n",
        "    lambdas = fit(X, Y, ZERO, C,  kernel=linear_kernel, kwargs={})    # C is slack variable\n",
        "               \n",
        "    # Get the alpha values for the support vectors, as well as their target data.\n",
        "    s_vecs, s_vecs_Y, s_vecs_lambda = get_support_vectors(X, Y, lambdas)\n",
        "    print(f\"{s_vecs.shape[0]} support vectors found.\\\\n\", s_vecs)\n",
        "\n",
        "    #print(\"s_vecs_Y\", s_vecs_Y)\n",
        "    #print(\"s_vecs_lambda\", s_vecs_lambda)\n",
        "    \n",
        "    # test new data point\n",
        "    ip_new = np.array([-0.6, 0.75])\n",
        "    prediciton, w0, weight = predict(ip_new, s_vecs, s_vecs_Y, s_vecs_lambda, C, ZERO, kernel=linear_kernel, kwargs={})\n",
        "    \n",
        "    plot_decision_boundary(  Positive, Negative,\n",
        "                             ip_new,\n",
        "                             s_vecs,\n",
        "                             s_vecs_Y,\n",
        "                             s_vecs_lambda,\n",
        "                             w0, weight, target_data,\n",
        "                             kernel=linear_kernel,\n",
        "                             kwargs={})\n",
        "    \n",
        "    #------------ polynomial hyperplane\n",
        "    test_polynomial_kernel(X, target_data, ZERO)"
      ],
      "metadata": {
        "colab": {
          "base_uri": "https://localhost:8080/",
          "height": 1000
        },
        "id": "9plmh0ozua0F",
        "outputId": "3b00d325-9b32-4c09-9776-2c2188aa6a6e"
      },
      "execution_count": 13,
      "outputs": [
        {
          "output_type": "stream",
          "name": "stdout",
          "text": [
            "40 support vectors found.\\n [[ 0.93775459  0.06812878]\n",
            " [ 1.72225459 -0.11974027]\n",
            " [ 0.42448628 -0.86445712]\n",
            " [-2.03524537  0.56015045]\n",
            " [ 1.2778755  -0.58188648]\n",
            " [ 1.40186973 -0.74534088]\n",
            " [-0.00892175 -0.71463001]\n",
            " [ 0.98524228 -0.44313042]\n",
            " [-0.76590095  1.12063704]\n",
            " [ 0.62905985 -0.99111128]\n",
            " [-0.20376774 -0.82076316]\n",
            " [-1.44075191  0.15927811]\n",
            " [ 0.07742877 -1.14931829]\n",
            " [ 1.20929285 -0.47625357]\n",
            " [-0.11132172 -1.48342931]\n",
            " [ 0.25602264 -1.35327514]\n",
            " [-2.01477484  0.55726986]\n",
            " [-0.28625899 -1.15067218]\n",
            " [ 2.18190517  0.52953827]\n",
            " [ 0.07112504 -1.01239012]\n",
            " [-0.18664454 -1.2922903 ]\n",
            " [-0.52528106 -0.19958112]\n",
            " [-1.14212888 -0.19215842]\n",
            " [-0.43042553 -0.1224234 ]\n",
            " [-1.25314624  0.7644046 ]\n",
            " [ 1.90223209 -0.55125585]\n",
            " [-1.53690053  1.07849279]\n",
            " [-0.59376991 -0.84960436]\n",
            " [-1.247687    0.60864115]\n",
            " [-0.10434967 -0.80116922]\n",
            " [ 0.88640301 -0.31171598]\n",
            " [-0.6251601  -1.42210023]\n",
            " [ 1.77592671 -0.62091129]\n",
            " [-2.1300322   0.61799457]\n",
            " [-0.04612834 -0.43374017]\n",
            " [ 0.28036696 -1.35396003]\n",
            " [ 0.58299574 -1.22404863]\n",
            " [-0.71154051 -0.54219998]\n",
            " [-0.39561007 -0.93109048]\n",
            " [-1.44369968  1.3358034 ]]\n",
            "x1_meshgrid [[-2.34562907  2.39750204]\n",
            " [-2.34562907  2.39750204]]\n",
            "x2_meshgrid [[-1.62439095 -1.62439095]\n",
            " [ 1.47676503  1.47676503]]\n",
            "x1_coord [-2.34562907  2.39750204]\n",
            "x2_coord [-1.62439095  1.47676503]\n"
          ]
        },
        {
          "output_type": "display_data",
          "data": {
            "text/plain": [
              "<Figure size 432x288 with 1 Axes>"
            ],
            "image/png": "[encoded data removed]"
          },
          "metadata": {
            "needs_background": "light"
          }
        },
        {
          "output_type": "stream",
          "name": "stdout",
          "text": [
            "x1_meshgrid [[-2.34562907  2.39750204]\n",
            " [-2.34562907  2.39750204]]\n",
            "x2_meshgrid [[-1.62439095 -1.62439095]\n",
            " [ 1.47676503  1.47676503]]\n",
            "x1_coord [-2.34562907  2.39750204]\n",
            "x2_coord [-1.62439095  1.47676503]\n"
          ]
        },
        {
          "output_type": "display_data",
          "data": {
            "text/plain": [
              "<Figure size 432x288 with 1 Axes>"
            ],
            "image/png": "[encoded data removed]"
          },
          "metadata": {
            "needs_background": "light"
          }
        }
      ]
    }
  ]
}
