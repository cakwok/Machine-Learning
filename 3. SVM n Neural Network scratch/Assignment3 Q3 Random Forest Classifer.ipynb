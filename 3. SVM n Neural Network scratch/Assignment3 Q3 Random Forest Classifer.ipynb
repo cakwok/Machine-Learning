{
  "nbformat": 4,
  "nbformat_minor": 0,
  "metadata": {
    "colab": {
      "name": "Assignment3 - Q3 Random Forest Classifier.ipynb",
      "provenance": [],
      "collapsed_sections": [],
      "mount_file_id": "1RQoMJKmGPzXPf0iEs6Msv9X_53D_0Csf",
      "authorship_tag": "ABX9TyMPNmsjngipHAlKO17d0aHG"
    },
    "kernelspec": {
      "name": "python3",
      "display_name": "Python 3"
    },
    "language_info": {
      "name": "python"
    }
  },
  "cells": [
    {
      "cell_type": "code",
      "source": [
        "'''\n",
        "CS6140 Assignment 3\n",
        "Q3 Understanding Random Forest Classifier\n",
        "Wing Man, Kwok\n",
        "7 Jul 2022\n",
        "'''"
      ],
      "metadata": {
        "colab": {
          "base_uri": "https://localhost:8080/",
          "height": 35
        },
        "id": "VOdbFlikSRDC",
        "outputId": "6e92b17d-bf7a-49be-f7a5-1230a5356dd1"
      },
      "execution_count": 146,
      "outputs": [
        {
          "output_type": "execute_result",
          "data": {
            "text/plain": [
              "'\\nCS6140 Assignment 3\\nQ3 Understanding Random Forest Classifier\\nWing Man, Kwok\\n7 Jul 2022\\n'"
            ],
            "application/vnd.google.colaboratory.intrinsic+json": {
              "type": "string"
            }
          },
          "metadata": {},
          "execution_count": 146
        }
      ]
    },
    {
      "cell_type": "code",
      "execution_count": 147,
      "metadata": {
        "id": "yZ6l9VdDSOUG"
      },
      "outputs": [],
      "source": [
        "from sklearn.ensemble import RandomForestClassifier\n",
        "from sklearn.metrics import classification_report, plot_confusion_matrix, ConfusionMatrixDisplay\n",
        "from sklearn.datasets import load_digits                                #load mnist dataset\n",
        "from sklearn.model_selection import train_test_split\n",
        "import pandas as pd\n",
        "from sklearn import metrics                                             #compute accuracy score\n",
        "from sklearn.metrics import precision_score, recall_score, f1_score, accuracy_score, average_precision_score, average_precision_score\n",
        "from sklearn.model_selection import RandomizedSearchCV,GridSearchCV\n",
        "import numpy as np\n",
        "from google.colab import drive\n",
        "import matplotlib.pyplot as plt\n",
        "from sklearn.model_selection import KFold, RepeatedStratifiedKFold      #to cross validate with k fold\n",
        "from sklearn.model_selection import cross_val_score                     #to compute k fold prediction performance\n",
        "from sklearn.metrics import make_scorer                                 #to compute k fold prediction performance"
      ]
    },
    {
      "cell_type": "code",
      "source": [
        "#Q3.1\n",
        "#to baseline default random forest classifier prediction accuracy and classification report for MNIST Digits Dataset \n",
        "\n",
        "def print_q3_1_performance(y_test, y_pred):\n",
        "  print(\"ACCURACY OF THE MODEL: \", metrics.accuracy_score(y_test, y_pred), \"\\n\")\n",
        "  print(\"Classification Report of Baseline, MNIST Digits:\")\n",
        "  print(classification_report(y_test, y_pred))\n",
        "  print(\"Confusion Matrix:\")\n",
        "  ConfusionMatrixDisplay.from_predictions(y_test, y_pred)"
      ],
      "metadata": {
        "id": "CQ0_o1Zgdvv1"
      },
      "execution_count": 148,
      "outputs": []
    },
    {
      "cell_type": "code",
      "source": [
        "#Q3.2 \n",
        "#to print out resulted performance according to different parameters\n",
        "\n",
        "def print_performance(clf, y_test, y_pred, X_train, y_train, X_test):\n",
        "\n",
        "  clf.fit(X_train, y_train)\n",
        "  y_pred = clf.predict(X_test)\n",
        "\n",
        "  print(\"Random Forest Classifier Parameters:\")\n",
        "  print(clf.get_params())\n",
        "  print(\"ACCURACY OF THE MODEL: \", metrics.accuracy_score(y_test, y_pred))\n",
        "  print(\"precision\", precision_score(y_test, y_pred, average='weighted'))\n",
        "  print('Recall: %.3f' % recall_score(y_test, y_pred, average='weighted'))\n",
        "  print(\"f1_score\", f1_score(y_test, y_pred, average='weighted'))\n",
        "  print(\"\\n\")"
      ],
      "metadata": {
        "id": "bp7Fg5pWfFTI"
      },
      "execution_count": 149,
      "outputs": []
    },
    {
      "cell_type": "code",
      "source": [
        "#Q3.2 \n",
        "#assign values of \"cateory\" column from value of accuracy\n",
        "def assign_category(accuracy):        \n",
        "    if 0 < accuracy < 0.6:\n",
        "        result = \"D\"\n",
        "    elif 0.6 < accuracy < 0.7:\n",
        "        result = \"C\"\n",
        "    elif 0.7 < accuracy < 0.8:\n",
        "        result = \"B\"\n",
        "    elif 0.8 < accuracy < 0.9:\n",
        "        result = \"A\"\n",
        "    else:\n",
        "        result = \"A+\"\n",
        "    return result"
      ],
      "metadata": {
        "id": "jaMik7_og405"
      },
      "execution_count": 150,
      "outputs": []
    },
    {
      "cell_type": "code",
      "source": [
        "#Q3.1 Build a random forest classifier and find performance\n",
        "\n",
        "digits = load_digits(as_frame=True)\n",
        "\n",
        "X_train, X_test, y_train, y_test = train_test_split(digits.data, digits.target, test_size = 0.20, random_state = 1)\n",
        "\n",
        "clf = RandomForestClassifier(random_state = 1)\n",
        "clf.fit(X_train, y_train)\n",
        "y_pred = clf.predict(X_test)\n",
        "\n",
        "print_q3_1_performance(y_test, y_pred)"
      ],
      "metadata": {
        "colab": {
          "base_uri": "https://localhost:8080/",
          "height": 644
        },
        "id": "ttiTXOX5UGP9",
        "outputId": "475f01eb-550b-4f3a-fc00-0eb3e3ff8b7f"
      },
      "execution_count": 151,
      "outputs": [
        {
          "output_type": "stream",
          "name": "stdout",
          "text": [
            "ACCURACY OF THE MODEL:  0.9833333333333333 \n",
            "\n",
            "Classification Report of Baseline, MNIST Digits:\n",
            "              precision    recall  f1-score   support\n",
            "\n",
            "           0       0.98      0.95      0.96        43\n",
            "           1       1.00      1.00      1.00        35\n",
            "           2       1.00      1.00      1.00        36\n",
            "           3       1.00      0.98      0.99        41\n",
            "           4       0.95      1.00      0.97        38\n",
            "           5       0.97      1.00      0.98        30\n",
            "           6       1.00      1.00      1.00        37\n",
            "           7       1.00      0.97      0.99        37\n",
            "           8       1.00      0.97      0.98        29\n",
            "           9       0.94      0.97      0.96        34\n",
            "\n",
            "    accuracy                           0.98       360\n",
            "   macro avg       0.98      0.98      0.98       360\n",
            "weighted avg       0.98      0.98      0.98       360\n",
            "\n",
            "Confusion Matrix:\n"
          ]
        },
        {
          "output_type": "display_data",
          "data": {
            "text/plain": [
              "<Figure size 432x288 with 2 Axes>"
            ],
            "image/png": "[encoded data removed]"
          },
          "metadata": {
            "needs_background": "light"
          }
        }
      ]
    },
    {
      "cell_type": "code",
      "source": [
        "#Q3.2 Investigate Random Forest Classifier parameters\n",
        "\n",
        "#---------- investigate random forest classifer parameters\n",
        "#Performance of tunning parameters while keeping default parameter values\n",
        "#train a classifer with number of nodes of trees\n",
        "print(\"Table 1.  Performance of tunning parameters while keeping default parameter values\")\n",
        "clf = RandomForestClassifier(max_leaf_nodes = 6, random_state = 1)\n",
        "print_performance(clf, y_test, y_pred, X_train, y_train, X_test)\n",
        "\n",
        "#train a classifer with number of trees\n",
        "clf = RandomForestClassifier(n_estimators = 200, random_state = 1)\n",
        "print_performance(clf, y_test, y_pred, X_train, y_train, X_test)\n",
        "\n",
        "#train a classifer with depth of trees\n",
        "clf = RandomForestClassifier(max_depth = 1, random_state = 1)\n",
        "print_performance(clf, y_test, y_pred, X_train, y_train, X_test)\n",
        "\n",
        "#train a classifer with min samples to split\n",
        "clf = RandomForestClassifier(min_samples_split = 5, random_state = 1)\n",
        "print_performance(clf, y_test, y_pred, X_train, y_train, X_test)\n",
        "\n",
        "#train a classifer with min samples in leaf\n",
        "clf = RandomForestClassifier(min_samples_leaf = 5, random_state = 1)\n",
        "print_performance(clf, y_test, y_pred, X_train, y_train, X_test)"
      ],
      "metadata": {
        "colab": {
          "base_uri": "https://localhost:8080/"
        },
        "cellView": "code",
        "id": "QsSJlXyTo2p3",
        "outputId": "dc1eb514-af6e-4435-8066-ead85af14896"
      },
      "execution_count": 152,
      "outputs": [
        {
          "output_type": "stream",
          "name": "stdout",
          "text": [
            "Table 1.  Performance of tunning parameters while keeping default parameter values\n",
            "Random Forest Classifier Parameters:\n",
            "{'bootstrap': True, 'ccp_alpha': 0.0, 'class_weight': None, 'criterion': 'gini', 'max_depth': None, 'max_features': 'auto', 'max_leaf_nodes': 6, 'max_samples': None, 'min_impurity_decrease': 0.0, 'min_samples_leaf': 1, 'min_samples_split': 2, 'min_weight_fraction_leaf': 0.0, 'n_estimators': 100, 'n_jobs': None, 'oob_score': False, 'random_state': 1, 'verbose': 0, 'warm_start': False}\n",
            "ACCURACY OF THE MODEL:  0.8805555555555555\n",
            "precision 0.8864188711507579\n",
            "Recall: 0.881\n",
            "f1_score 0.8787352202021571\n",
            "\n",
            "\n",
            "Random Forest Classifier Parameters:\n",
            "{'bootstrap': True, 'ccp_alpha': 0.0, 'class_weight': None, 'criterion': 'gini', 'max_depth': None, 'max_features': 'auto', 'max_leaf_nodes': None, 'max_samples': None, 'min_impurity_decrease': 0.0, 'min_samples_leaf': 1, 'min_samples_split': 2, 'min_weight_fraction_leaf': 0.0, 'n_estimators': 200, 'n_jobs': None, 'oob_score': False, 'random_state': 1, 'verbose': 0, 'warm_start': False}\n",
            "ACCURACY OF THE MODEL:  0.9861111111111112\n",
            "precision 0.9864306720758335\n",
            "Recall: 0.986\n",
            "f1_score 0.9861597912520109\n",
            "\n",
            "\n",
            "Random Forest Classifier Parameters:\n",
            "{'bootstrap': True, 'ccp_alpha': 0.0, 'class_weight': None, 'criterion': 'gini', 'max_depth': 1, 'max_features': 'auto', 'max_leaf_nodes': None, 'max_samples': None, 'min_impurity_decrease': 0.0, 'min_samples_leaf': 1, 'min_samples_split': 2, 'min_weight_fraction_leaf': 0.0, 'n_estimators': 100, 'n_jobs': None, 'oob_score': False, 'random_state': 1, 'verbose': 0, 'warm_start': False}\n",
            "ACCURACY OF THE MODEL:  0.7694444444444445\n",
            "precision 0.7834549023069252\n",
            "Recall: 0.769\n",
            "f1_score 0.7614687682198631\n",
            "\n",
            "\n",
            "Random Forest Classifier Parameters:\n",
            "{'bootstrap': True, 'ccp_alpha': 0.0, 'class_weight': None, 'criterion': 'gini', 'max_depth': None, 'max_features': 'auto', 'max_leaf_nodes': None, 'max_samples': None, 'min_impurity_decrease': 0.0, 'min_samples_leaf': 1, 'min_samples_split': 5, 'min_weight_fraction_leaf': 0.0, 'n_estimators': 100, 'n_jobs': None, 'oob_score': False, 'random_state': 1, 'verbose': 0, 'warm_start': False}\n",
            "ACCURACY OF THE MODEL:  0.9805555555555555\n",
            "precision 0.9813859020310634\n",
            "Recall: 0.981\n",
            "f1_score 0.9806536715700482\n",
            "\n",
            "\n",
            "Random Forest Classifier Parameters:\n",
            "{'bootstrap': True, 'ccp_alpha': 0.0, 'class_weight': None, 'criterion': 'gini', 'max_depth': None, 'max_features': 'auto', 'max_leaf_nodes': None, 'max_samples': None, 'min_impurity_decrease': 0.0, 'min_samples_leaf': 5, 'min_samples_split': 2, 'min_weight_fraction_leaf': 0.0, 'n_estimators': 100, 'n_jobs': None, 'oob_score': False, 'random_state': 1, 'verbose': 0, 'warm_start': False}\n",
            "ACCURACY OF THE MODEL:  0.9638888888888889\n",
            "precision 0.9658291895134\n",
            "Recall: 0.964\n",
            "f1_score 0.9643645729447865\n",
            "\n",
            "\n"
          ]
        }
      ]
    },
    {
      "cell_type": "code",
      "source": [
        "#Performance of tunning parameters to plot parallel coordinates\n",
        "\n",
        "print(\"Table 2.  Performance of tunning parameters while keeping default parameter values\")\n",
        "\n",
        "#train a classifer with number of nodes of trees\n",
        "clf = RandomForestClassifier(max_leaf_nodes = 6, n_estimators = 100, max_depth = 1, min_samples_split = 2,  min_samples_leaf = 1, random_state = 1)\n",
        "print_performance(clf, y_test, y_pred, X_train, y_train, X_test)\n",
        "\n",
        "#train a classifer with number of trees\n",
        "clf = RandomForestClassifier(max_leaf_nodes = 3, n_estimators = 200, max_depth = 1, min_samples_split = 2, min_samples_leaf = 1, random_state = 1)\n",
        "print_performance(clf, y_test, y_pred, X_train, y_train, X_test)\n",
        "\n",
        "#train a classifer with depth of trees\n",
        "clf = RandomForestClassifier(max_leaf_nodes = 3, n_estimators = 100, max_depth = 5, min_samples_split = 2, min_samples_leaf = 1, random_state = 1)\n",
        "print_performance(clf, y_test, y_pred, X_train, y_train, X_test)\n",
        "\n",
        "#train a classifer with min samples to split\n",
        "clf = RandomForestClassifier(max_leaf_nodes = 3, n_estimators = 100, max_depth = 1, min_samples_split = 5, min_samples_leaf = 1, random_state = 1)\n",
        "print_performance(clf, y_test, y_pred, X_train, y_train, X_test)\n",
        "\n",
        "#train a classifer with min samples in leaf\n",
        "clf = RandomForestClassifier(max_leaf_nodes = 3, n_estimators = 100, max_depth = 1, min_samples_split = 2, min_samples_leaf = 5, random_state = 1)\n",
        "print_performance(clf, y_test, y_pred, X_train, y_train, X_test)"
      ],
      "metadata": {
        "colab": {
          "base_uri": "https://localhost:8080/"
        },
        "id": "jSywunnVMZDV",
        "outputId": "f1d8628a-cacd-4c6c-f0a3-d754f47e05c2"
      },
      "execution_count": 153,
      "outputs": [
        {
          "output_type": "stream",
          "name": "stdout",
          "text": [
            "Table 2.  Performance of tunning parameters while keeping default parameter values\n",
            "Random Forest Classifier Parameters:\n",
            "{'bootstrap': True, 'ccp_alpha': 0.0, 'class_weight': None, 'criterion': 'gini', 'max_depth': 1, 'max_features': 'auto', 'max_leaf_nodes': 6, 'max_samples': None, 'min_impurity_decrease': 0.0, 'min_samples_leaf': 1, 'min_samples_split': 2, 'min_weight_fraction_leaf': 0.0, 'n_estimators': 100, 'n_jobs': None, 'oob_score': False, 'random_state': 1, 'verbose': 0, 'warm_start': False}\n",
            "ACCURACY OF THE MODEL:  0.7694444444444445\n",
            "precision 0.7834549023069252\n",
            "Recall: 0.769\n",
            "f1_score 0.7614687682198631\n",
            "\n",
            "\n",
            "Random Forest Classifier Parameters:\n",
            "{'bootstrap': True, 'ccp_alpha': 0.0, 'class_weight': None, 'criterion': 'gini', 'max_depth': 1, 'max_features': 'auto', 'max_leaf_nodes': 3, 'max_samples': None, 'min_impurity_decrease': 0.0, 'min_samples_leaf': 1, 'min_samples_split': 2, 'min_weight_fraction_leaf': 0.0, 'n_estimators': 200, 'n_jobs': None, 'oob_score': False, 'random_state': 1, 'verbose': 0, 'warm_start': False}\n",
            "ACCURACY OF THE MODEL:  0.7694444444444445\n",
            "precision 0.7800754513166452\n",
            "Recall: 0.769\n",
            "f1_score 0.7564801702644571\n",
            "\n",
            "\n",
            "Random Forest Classifier Parameters:\n",
            "{'bootstrap': True, 'ccp_alpha': 0.0, 'class_weight': None, 'criterion': 'gini', 'max_depth': 5, 'max_features': 'auto', 'max_leaf_nodes': 3, 'max_samples': None, 'min_impurity_decrease': 0.0, 'min_samples_leaf': 1, 'min_samples_split': 2, 'min_weight_fraction_leaf': 0.0, 'n_estimators': 100, 'n_jobs': None, 'oob_score': False, 'random_state': 1, 'verbose': 0, 'warm_start': False}\n",
            "ACCURACY OF THE MODEL:  0.8166666666666667\n",
            "precision 0.8207157086672393\n",
            "Recall: 0.817\n",
            "f1_score 0.8086788362941011\n",
            "\n",
            "\n",
            "Random Forest Classifier Parameters:\n",
            "{'bootstrap': True, 'ccp_alpha': 0.0, 'class_weight': None, 'criterion': 'gini', 'max_depth': 1, 'max_features': 'auto', 'max_leaf_nodes': 3, 'max_samples': None, 'min_impurity_decrease': 0.0, 'min_samples_leaf': 1, 'min_samples_split': 5, 'min_weight_fraction_leaf': 0.0, 'n_estimators': 100, 'n_jobs': None, 'oob_score': False, 'random_state': 1, 'verbose': 0, 'warm_start': False}\n",
            "ACCURACY OF THE MODEL:  0.7694444444444445\n",
            "precision 0.7834549023069252\n",
            "Recall: 0.769\n",
            "f1_score 0.7614687682198631\n",
            "\n",
            "\n",
            "Random Forest Classifier Parameters:\n",
            "{'bootstrap': True, 'ccp_alpha': 0.0, 'class_weight': None, 'criterion': 'gini', 'max_depth': 1, 'max_features': 'auto', 'max_leaf_nodes': 3, 'max_samples': None, 'min_impurity_decrease': 0.0, 'min_samples_leaf': 5, 'min_samples_split': 2, 'min_weight_fraction_leaf': 0.0, 'n_estimators': 100, 'n_jobs': None, 'oob_score': False, 'random_state': 1, 'verbose': 0, 'warm_start': False}\n",
            "ACCURACY OF THE MODEL:  0.7694444444444445\n",
            "precision 0.7834549023069252\n",
            "Recall: 0.769\n",
            "f1_score 0.7614687682198631\n",
            "\n",
            "\n"
          ]
        }
      ]
    },
    {
      "cell_type": "code",
      "source": [
        "# ----------- Create a dataframe with the performance results\n",
        "df = pd.read_csv(\"/content/drive/MyDrive/Colab Notebooks/CS6140 Assignment3/assignment3 q3 performance matrix.csv\")\n",
        "df[\"category\"] = df[\"accuracy\"].apply(assign_category)\n",
        "print(\"Table 3.  Accuracy category with default unlimited parameters\", \"\\n\")\n",
        "print(df)\n",
        "print(\"\\n\")\n",
        "\n",
        "df = pd.read_csv(\"/content/drive/MyDrive/Colab Notebooks/CS6140 Assignment3/assignment3 q3 performance matrix 2.csv\")\n",
        "df[\"category\"] = df[\"accuracy\"].apply(assign_category)\n",
        "print(\"Table 4.  Accuracy category with non default parameters\", \"\\n\")\n",
        "print(df)"
      ],
      "metadata": {
        "colab": {
          "base_uri": "https://localhost:8080/"
        },
        "id": "KtOISOUYbMPU",
        "outputId": "6e1dbb68-0a6b-48ce-8679-c56e19577cd2"
      },
      "execution_count": 154,
      "outputs": [
        {
          "output_type": "stream",
          "name": "stdout",
          "text": [
            "Table 3.  Accuracy category with default unlimited parameters \n",
            "\n",
            "  max leaf node  n estimator  max depth  min samples split  min samples leaf  \\\n",
            "0             3          100  unlimited                  2                 1   \n",
            "1     unlimited          200  unlimited                  2                 1   \n",
            "2     unlimited          100          1                  2                 1   \n",
            "3     unlimited          100  unlimited                  5                 1   \n",
            "4     unlimited          100  unlimited                  2                 5   \n",
            "\n",
            "   accuracy  precision  recall  f1_score category  \n",
            "0     0.820      0.820   0.817  0.808679        A  \n",
            "1     0.986      0.986   0.986  0.986000       A+  \n",
            "2     0.769      0.783   0.769  0.761000        B  \n",
            "3     0.980      0.980   0.980  0.980000       A+  \n",
            "4     0.960      0.970   0.960  0.960000       A+  \n",
            "\n",
            "\n",
            "Table 4.  Accuracy category with non default parameters \n",
            "\n",
            "   max leaf node  n estimator  max depth  min samples split  min samples leaf  \\\n",
            "0              6          100          1                  2                 1   \n",
            "1              3          200          1                  2                 1   \n",
            "2              3          100          5                  2                 1   \n",
            "3              3          100          1                  5                 1   \n",
            "4              3          100          1                  2                 5   \n",
            "\n",
            "   accuracy  precision  recall  f1_score category  \n",
            "0      0.77       0.78    0.77      0.76        B  \n",
            "1      0.77       0.78    0.77      0.76        B  \n",
            "2      0.82       0.82    0.82      0.80        A  \n",
            "3      0.77       0.78    0.77      0.76        B  \n",
            "4      0.77       0.78    0.77      0.76        B  \n"
          ]
        }
      ]
    },
    {
      "cell_type": "code",
      "source": [
        "# plot parallel coordinates\n",
        "df_t = df[[\"category\", \"max leaf node\", \"n estimator\", \"max depth\", \"min samples split\", \"min samples leaf\"]]\n",
        "plt.figure(figsize=(16,8))\n",
        "plt.title(\"Parallel coordinates of Category(accuracy)\")\n",
        "plt.xlabel(\"parameter name\")\n",
        "plt.ylabel(\"parameter value\")\n",
        "pd.plotting.parallel_coordinates(df_t, 'category', color = (\"green\", \"blue\", \"red\"))"
      ],
      "metadata": {
        "colab": {
          "base_uri": "https://localhost:8080/",
          "height": 530
        },
        "id": "GWUiavh9iFTH",
        "outputId": "c6b6d820-75a7-4821-d77b-c8f49191198b"
      },
      "execution_count": 155,
      "outputs": [
        {
          "output_type": "execute_result",
          "data": {
            "text/plain": [
              "<matplotlib.axes._subplots.AxesSubplot at 0x7f73c1e76510>"
            ]
          },
          "metadata": {},
          "execution_count": 155
        },
        {
          "output_type": "display_data",
          "data": {
            "text/plain": [
              "<Figure size 1152x576 with 1 Axes>"
            ],
            "image/png": "[encoded data removed]"
          },
          "metadata": {
            "needs_background": "light"
          }
        }
      ]
    },
    {
      "cell_type": "code",
      "source": [
        "#---------------- Fine tune parameters using randomized search and grid search\n",
        "# The paramater values are only suggestive. You can come up with better choices.\n",
        "# Number of trees in random forest\n",
        "n_estimators = [int(x) for x in np.linspace(start = 100, stop = 1000, num = 5)]\n",
        "# Number of features to consider at every split\n",
        "max_features = ['auto', 'sqrt','log2']\n",
        "# Maximum number of levels in tree\n",
        "max_depth = [int(x) for x in np.linspace(10, 1000,10)]\n",
        "# Minimum number of samples required to split a node\n",
        "min_samples_split = [2, 5, 8, 11, 14]\n",
        "# Minimum number of samples required at each leaf node\n",
        "min_samples_leaf = [1, 2, 4, 6, 8]\n",
        "\n",
        "# Create the random grid\n",
        "random_grid = {'n_estimators': n_estimators,\n",
        "               'max_features': max_features,\n",
        "               'max_depth': max_depth,\n",
        "               'min_samples_split': min_samples_split,\n",
        "               'min_samples_leaf': min_samples_leaf,\n",
        "              }\n",
        "\n",
        "print(\"random_grid\")\n",
        "print(random_grid, \"\\n\")\n",
        "\n",
        "#Fine tune a classifer using randomized search\n",
        "clf = RandomForestClassifier(random_state = 1)\n",
        "clf_random = RandomizedSearchCV(estimator = clf, param_distributions = random_grid, n_iter = 100, verbose=2, random_state=1, n_jobs = -1)\n",
        "\n",
        "print(\"Performance, randomized search, cv = none\")\n",
        "print_performance(clf_random, y_test, y_pred, X_train, y_train, X_test)\n",
        "\n",
        "print(\"Randomized search, best parameters\")\n",
        "print(clf_random.best_params_, \"\\n\")\n",
        "\n",
        "#Fine tune a classifer using grid search\n",
        "\n",
        "param_grid = {\n",
        "    'max_depth': [680, 780],\n",
        "    'max_features': [2, 3],\n",
        "    'min_samples_leaf': [1, 2],\n",
        "    'min_samples_split': [2, 3],\n",
        "    'n_estimators': [900, 1000]\n",
        "}\n",
        "\n",
        "clf = RandomForestClassifier(random_state = 1)\n",
        "grid_search = GridSearchCV(estimator = clf, param_grid = param_grid, n_jobs = -1, verbose = 2)\n",
        "\n",
        "print(\"Performance, grid search, cv = none\")\n",
        "print_performance(grid_search, y_test, y_pred, X_train, y_train, X_test)\n",
        "\n",
        "print(\"Grid search, best parameters\")\n",
        "print(grid_search.best_params_)"
      ],
      "metadata": {
        "colab": {
          "base_uri": "https://localhost:8080/"
        },
        "id": "To7cq-gwZq2l",
        "outputId": "d23751ea-d657-47cf-a0a1-b00ffc56032e"
      },
      "execution_count": 144,
      "outputs": [
        {
          "output_type": "stream",
          "name": "stdout",
          "text": [
            "random_grid\n",
            "{'n_estimators': [100, 325, 550, 775, 1000], 'max_features': ['auto', 'sqrt', 'log2'], 'max_depth': [10, 120, 230, 340, 450, 560, 670, 780, 890, 1000], 'min_samples_split': [2, 5, 8, 11, 14], 'min_samples_leaf': [1, 2, 4, 6, 8]} \n",
            "\n",
            "Performance, randomized search, cv = none\n",
            "Fitting 5 folds for each of 100 candidates, totalling 500 fits\n",
            "Random Forest Classifier Parameters:\n",
            "{'cv': None, 'error_score': nan, 'estimator__bootstrap': True, 'estimator__ccp_alpha': 0.0, 'estimator__class_weight': None, 'estimator__criterion': 'gini', 'estimator__max_depth': None, 'estimator__max_features': 'auto', 'estimator__max_leaf_nodes': None, 'estimator__max_samples': None, 'estimator__min_impurity_decrease': 0.0, 'estimator__min_samples_leaf': 1, 'estimator__min_samples_split': 2, 'estimator__min_weight_fraction_leaf': 0.0, 'estimator__n_estimators': 100, 'estimator__n_jobs': None, 'estimator__oob_score': False, 'estimator__random_state': 1, 'estimator__verbose': 0, 'estimator__warm_start': False, 'estimator': RandomForestClassifier(random_state=1), 'n_iter': 100, 'n_jobs': -1, 'param_distributions': {'n_estimators': [100, 325, 550, 775, 1000], 'max_features': ['auto', 'sqrt', 'log2'], 'max_depth': [10, 120, 230, 340, 450, 560, 670, 780, 890, 1000], 'min_samples_split': [2, 5, 8, 11, 14], 'min_samples_leaf': [1, 2, 4, 6, 8]}, 'pre_dispatch': '2*n_jobs', 'random_state': 1, 'refit': True, 'return_train_score': False, 'scoring': None, 'verbose': 2}\n",
            "ACCURACY OF THE MODEL:  0.9833333333333333\n",
            "precision 0.9838594470046084\n",
            "Recall: 0.983\n",
            "f1_score 0.9833854033305641\n",
            "\n",
            "\n",
            "Randomized search, best parameters\n",
            "{'n_estimators': 1000, 'min_samples_split': 5, 'min_samples_leaf': 1, 'max_features': 'auto', 'max_depth': 1000} \n",
            "\n",
            "Performance, grid search, cv = none\n",
            "Fitting 5 folds for each of 32 candidates, totalling 160 fits\n",
            "Random Forest Classifier Parameters:\n",
            "{'cv': None, 'error_score': nan, 'estimator__bootstrap': True, 'estimator__ccp_alpha': 0.0, 'estimator__class_weight': None, 'estimator__criterion': 'gini', 'estimator__max_depth': None, 'estimator__max_features': 'auto', 'estimator__max_leaf_nodes': None, 'estimator__max_samples': None, 'estimator__min_impurity_decrease': 0.0, 'estimator__min_samples_leaf': 1, 'estimator__min_samples_split': 2, 'estimator__min_weight_fraction_leaf': 0.0, 'estimator__n_estimators': 100, 'estimator__n_jobs': None, 'estimator__oob_score': False, 'estimator__random_state': 1, 'estimator__verbose': 0, 'estimator__warm_start': False, 'estimator': RandomForestClassifier(random_state=1), 'n_jobs': -1, 'param_grid': {'max_depth': [680, 780], 'max_features': [2, 3], 'min_samples_leaf': [1, 2], 'min_samples_split': [2, 3], 'n_estimators': [900, 1000]}, 'pre_dispatch': '2*n_jobs', 'refit': True, 'return_train_score': False, 'scoring': None, 'verbose': 2}\n",
            "ACCURACY OF THE MODEL:  0.9861111111111112\n",
            "precision 0.9864784946236559\n",
            "Recall: 0.986\n",
            "f1_score 0.9861194054711717\n",
            "\n",
            "\n",
            "Grid search, best parameters\n",
            "{'max_depth': 680, 'max_features': 2, 'min_samples_leaf': 1, 'min_samples_split': 2, 'n_estimators': 900}\n"
          ]
        }
      ]
    },
    {
      "cell_type": "markdown",
      "source": [
        "Analysis of the impace of each tuning parameter : \n",
        "<br><br>\n",
        "I have produced 4 tables to compare tuning of parameters.  Table 1, 3, represents result of changing one parameter while keeping the rest <b>default</b>, then table 2, 4, shows the result of changing one parameter while putting a minimum value for the rest of the parameters to plot a mathematically meaningful parallel coordinates, without values of unlimited.\n",
        "<br><br>\n",
        "The result of keeping other parameters as default, i think is more reasonable, as any values i put as a minimum, could be a very general assumption.\n",
        "<br><br>\n",
        "Therefore, from table 3, it shows the decrease of number of max leaf node and max depth, decreased performance.\n",
        "<br><br>\n",
        "From table 4, we can observe the increase in depth could improve performance."
      ],
      "metadata": {
        "id": "7M6tEe2drwEl"
      }
    },
    {
      "cell_type": "code",
      "source": [
        "#Q3.3 Find the best estimator again and evaluate with 10 fold cross validation\n",
        "\n",
        "#from sklearn.metrics import SCORERS\n",
        "#print(sorted(SCORERS.keys()))\n",
        "\n",
        "#train a classifer with min samples in leaf\n",
        "cv = RepeatedStratifiedKFold(n_splits=10, random_state=1)\n",
        "clf = RandomForestClassifier(max_depth = 680, max_features = 2, min_samples_leaf = 1, min_samples_split = 2, n_estimators = 900, random_state = 1)\n",
        "\n",
        "accuracy_score = cross_val_score(clf, digits.data, digits.target, cv=cv, scoring='accuracy')\n",
        "print(\"accuracy_score\", accuracy_score.mean())\n",
        "\n",
        "scoring = {'f1_score' : make_scorer(f1_score, average='weighted')}\n",
        "f1_weighted_scores = cross_val_score(clf, digits.data, digits.target, scoring='f1_weighted', cv=10, n_jobs=-1, error_score='raise')\n",
        "print(\"f1_weighted_scores\", f1_weighted_scores.mean())"
      ],
      "metadata": {
        "colab": {
          "base_uri": "https://localhost:8080/"
        },
        "id": "f3NkGmi_soe1",
        "outputId": "b42572aa-1c54-45bc-c600-aaed96c40e74"
      },
      "execution_count": 145,
      "outputs": [
        {
          "output_type": "stream",
          "name": "stdout",
          "text": [
            "accuracy_score 0.9753507138423337\n",
            "f1_weighted_scores 0.9525623693342136\n"
          ]
        }
      ]
    },
    {
      "cell_type": "markdown",
      "source": [
        "4.Hyper parameters avaliable to random forest classifer could be over 10 parameters.  If we reach the best parameters by brute force, it could take prior knowledge of the behavior.\n",
        "\n",
        "Randomized search, however, select randomly to sample a wide range of values, and also in the combination of different values to narrow down the range of hyperparameters.\n",
        "\n",
        "Now we have got the range of parameters, Grid search is to explicitly specify settings to try, to locate a more precise values of parameters.\n",
        "<br><br>\n",
        "5.To measure and analysis if high in accuracy is due to overfitting, by comparing training dataset accuracy with testing dataset for example.  If accuracy of training dataset is high but testing dataset is low, it means the model is overfit with training dataset and not generalising unseen data well.\n",
        "<br><br>\n",
        "6.Increasing maximum features could generally improve performance as there are more options to classify.\n",
        "\n",
        "Then the number of trees, n_estimators, determines the maximum votings or averages of predictions.  Therefore it could improve prediction performane.\n",
        "\n",
        "Maximum depth describe the longest path between root node and leaf node.  As there are more decisions to make before reaching the leaf node, the increase of tree depth could generally improve prediction performance.\n",
        "\n",
        "Increasing number of minimum samples split, could help splitting to stop early, so decision tress would less likely becomes overfit.\n",
        "\n",
        "Minimum samples leaf specifies the minimum amount of samples that must exist in a node after getting split.  Thus increasing the number helps reducing overfitting when number of data points becomes too little, but increasing too much would lead to underfit."
      ],
      "metadata": {
        "id": "Fwwhw2CpC2EI"
      }
    }
  ]
}
