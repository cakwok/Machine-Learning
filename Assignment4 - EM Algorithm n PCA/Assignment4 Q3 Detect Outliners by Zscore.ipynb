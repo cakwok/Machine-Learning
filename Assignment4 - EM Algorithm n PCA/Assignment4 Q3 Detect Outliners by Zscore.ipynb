{
  "nbformat": 4,
  "nbformat_minor": 0,
  "metadata": {
    "colab": {
      "name": "Assignment4 - Q3 Zscore.ipynb",
      "provenance": [],
      "collapsed_sections": [],
      "mount_file_id": "1GUMCWhm_yOiVDFX_5hPgZnxeNmCdX5g3",
      "authorship_tag": "ABX9TyMQbn14Lpb9yqi7ym9KVFK8"
    },
    "kernelspec": {
      "name": "python3",
      "display_name": "Python 3"
    },
    "language_info": {
      "name": "python"
    }
  },
  "cells": [
    {
      "cell_type": "code",
      "execution_count": 99,
      "metadata": {
        "colab": {
          "base_uri": "https://localhost:8080/",
          "height": 35
        },
        "id": "i2g4tHx3vKM-",
        "outputId": "04844bc6-2073-4646-fb2f-c13f94f86a29"
      },
      "outputs": [
        {
          "output_type": "execute_result",
          "data": {
            "text/plain": [
              "'\\nCS6140 Assignment 4\\nQ3 Outlier Detection using Zscore\\nJul 14 2022\\nWing Man, Kwok\\n'"
            ],
            "application/vnd.google.colaboratory.intrinsic+json": {
              "type": "string"
            }
          },
          "metadata": {},
          "execution_count": 99
        }
      ],
      "source": [
        "'''\n",
        "CS6140 Assignment 4\n",
        "Q3 Outlier Detection using Zscore\n",
        "Jul 14 2022\n",
        "Wing Man, Kwok\n",
        "'''"
      ]
    },
    {
      "cell_type": "code",
      "source": [
        "import pandas as pd\n",
        "import seaborn as sns\n",
        "import matplotlib.pyplot as plt\n",
        "import numpy as np\n",
        "from numpy import sort"
      ],
      "metadata": {
        "id": "7m_UxlHIvpaV"
      },
      "execution_count": 100,
      "outputs": []
    },
    {
      "cell_type": "code",
      "source": [
        "def detect_outliners(x_variable):\n",
        "  sd = np.abs((x_variable - np.mean(x_variable))/np.std(x_variable))\n",
        "  return np.where(sd>1)"
      ],
      "metadata": {
        "id": "3lciJ29EXjUh"
      },
      "execution_count": 101,
      "outputs": []
    },
    {
      "cell_type": "code",
      "source": [
        "#EDA for dataset visualization\n",
        "df = pd.read_csv(\"/content/drive/MyDrive/Colab Notebooks/CS6140 Assignment4/HeightWeight.csv\")\n",
        "\n",
        "sns.distplot(df[\"Height(Inches)\"], label = \"Height(Inches)\")\n",
        "sns.distplot(df[\"Weight(Pounds)\"], label = \"Weight(Pounds)\")\n",
        "plt.xlabel(\"Unit\")\n",
        "plt.legend()\n",
        "plt.show()"
      ],
      "metadata": {
        "colab": {
          "base_uri": "https://localhost:8080/",
          "height": 368
        },
        "id": "CIfBzTa8vsvW",
        "outputId": "03b1069e-e39e-4038-cd3c-bebb0090a061"
      },
      "execution_count": 102,
      "outputs": [
        {
          "output_type": "stream",
          "name": "stderr",
          "text": [
            "/usr/local/lib/python3.7/dist-packages/seaborn/distributions.py:2619: FutureWarning: `distplot` is a deprecated function and will be removed in a future version. Please adapt your code to use either `displot` (a figure-level function with similar flexibility) or `histplot` (an axes-level function for histograms).\n",
            "  warnings.warn(msg, FutureWarning)\n",
            "/usr/local/lib/python3.7/dist-packages/seaborn/distributions.py:2619: FutureWarning: `distplot` is a deprecated function and will be removed in a future version. Please adapt your code to use either `displot` (a figure-level function with similar flexibility) or `histplot` (an axes-level function for histograms).\n",
            "  warnings.warn(msg, FutureWarning)\n"
          ]
        },
        {
          "output_type": "display_data",
          "data": {
            "text/plain": [
              "<Figure size 432x288 with 1 Axes>"
            ],
            "image/png": "[encoded data removed]"
          },
          "metadata": {
            "needs_background": "light"
          }
        }
      ]
    },
    {
      "cell_type": "code",
      "source": [
        "#EDA by df.describe()\n",
        "print(\"EDA by df.describe():\")\n",
        "print(df.describe(), \"\\n\")\n",
        "\n",
        "#Detect outliners\n",
        "outliner_row_index1 = detect_outliners(df[\"Height(Inches)\"])\n",
        "outliner_row_index2 = detect_outliners(df[\"Weight(Pounds)\"])\n",
        "\n",
        "#Print result\n",
        "outliners_index = np.append(outliner_row_index1,outliner_row_index2)\n",
        "outliners_index = np.unique(outliners_index)\n",
        "outliners_index.sort(kind='mergesort')\n",
        "num_outliners = outliners_index.size\n",
        "\n",
        "print(\"Results - Number of outliners found:\", num_outliners, \", threshold 1\")\n",
        "print(df.iloc[outliners_index].head(5).to_string(index = False))"
      ],
      "metadata": {
        "colab": {
          "base_uri": "https://localhost:8080/"
        },
        "id": "KpCkI0WaYQB5",
        "outputId": "5ed7443b-1d15-411d-d081-584bcf7a0a2c"
      },
      "execution_count": 103,
      "outputs": [
        {
          "output_type": "stream",
          "name": "stdout",
          "text": [
            "EDA by df.describe():\n",
            "              Index  Height(Inches)  Weight(Pounds)\n",
            "count  25000.000000    25000.000000    25000.000000\n",
            "mean   12500.500000       67.993114      127.079421\n",
            "std     7217.022701        1.901679       11.660898\n",
            "min        1.000000       60.278360       78.014760\n",
            "25%     6250.750000       66.704397      119.308675\n",
            "50%    12500.500000       67.995700      127.157750\n",
            "75%    18750.250000       69.272958      134.892850\n",
            "max    25000.000000       75.152800      170.924000 \n",
            "\n",
            "Results - Number of outliners found: 12495 , threshold 1\n",
            " Index  Height(Inches)  Weight(Pounds)\n",
            "     1        65.78331        112.9925\n",
            "     2        71.51521        136.4873\n",
            "     3        69.39874        153.0269\n",
            "     4        68.21660        142.3354\n",
            "     5        67.78781        144.2971\n"
          ]
        }
      ]
    }
  ]
}
