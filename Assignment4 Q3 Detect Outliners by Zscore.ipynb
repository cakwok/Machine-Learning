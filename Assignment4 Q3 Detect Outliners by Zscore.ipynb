{
  "nbformat": 4,
  "nbformat_minor": 0,
  "metadata": {
    "colab": {
      "name": "Assignment4 - Q3 Detect Outliners by Zscore.ipynb",
      "provenance": [],
      "collapsed_sections": [],
      "mount_file_id": "1GUMCWhm_yOiVDFX_5hPgZnxeNmCdX5g3",
      "authorship_tag": "ABX9TyN+rJN9q9/xPSgE5Ucf9tmC"
    },
    "kernelspec": {
      "name": "python3",
      "display_name": "Python 3"
    },
    "language_info": {
      "name": "python"
    }
  },
  "cells": [
    {
      "cell_type": "code",
      "execution_count": null,
      "metadata": {
        "colab": {
          "base_uri": "https://localhost:8080/",
          "height": 35
        },
        "id": "i2g4tHx3vKM-",
        "outputId": "d57d6d42-cfd8-4a60-a583-0e5fed2a54a7"
      },
      "outputs": [
        {
          "output_type": "execute_result",
          "data": {
            "text/plain": [
              "'\\nCS6140 Assignment 4\\nQ3 Outlier Detection using Zscore\\nJul 14 2022\\nWing Man, Kwok\\n'"
            ],
            "application/vnd.google.colaboratory.intrinsic+json": {
              "type": "string"
            }
          },
          "metadata": {},
          "execution_count": 1
        }
      ],
      "source": [
        "'''\n",
        "CS6140 Assignment 4\n",
        "Q3 Outlier Detection using Zscore\n",
        "Jul 14 2022\n",
        "Wing Man, Kwok\n",
        "'''"
      ]
    },
    {
      "cell_type": "code",
      "source": [
        "import pandas as pd\n",
        "import seaborn as sns\n",
        "import matplotlib.pyplot as plt\n",
        "import numpy as np\n",
        "from numpy import sort\n",
        "from scipy.stats import t, chi2         # To compute T score"
      ],
      "metadata": {
        "id": "7m_UxlHIvpaV"
      },
      "execution_count": null,
      "outputs": []
    },
    {
      "cell_type": "code",
      "source": [
        "def detect_outliners(x_variable, threshold):\n",
        "  sd = np.abs((x_variable - np.mean(x_variable))/np.std(x_variable))\n",
        "  return np.where(sd > threshold)"
      ],
      "metadata": {
        "id": "3lciJ29EXjUh"
      },
      "execution_count": null,
      "outputs": []
    },
    {
      "cell_type": "code",
      "source": [
        "def print_outliners(outliner_row_index1,outliner_row_index2, threshold):\n",
        "  outliners_index = np.append(outliner_row_index1,outliner_row_index2)\n",
        "  outliners_index = np.unique(outliners_index)\n",
        "  outliners_index.sort(kind='mergesort')\n",
        "  num_outliners = outliners_index.size\n",
        "\n",
        "  print(\"Results - Number of outliners found:\", num_outliners, \", threshold\", threshold, \"\\n\")\n",
        "  print(df.iloc[outliners_index].head(5).to_string(index = False), \"\\n\")"
      ],
      "metadata": {
        "id": "H0duCbg7hONI"
      },
      "execution_count": null,
      "outputs": []
    },
    {
      "cell_type": "code",
      "source": [
        "#EDA for dataset visualization - distribution\n",
        "df = pd.read_csv(\"/content/drive/MyDrive/Colab Notebooks/CS6140 Assignment4/HeightWeight.csv\")\n",
        "\n",
        "sns.distplot(df[\"Height(Inches)\"], label = \"Height(Inches)\")\n",
        "sns.distplot(df[\"Weight(Pounds)\"], label = \"Weight(Pounds)\")\n",
        "plt.xlabel(\"Unit\")\n",
        "plt.legend()\n",
        "plt.title(\"Distribution of dataset\")\n",
        "plt.show()\n",
        "\n",
        "#EDA by boxplot\n",
        "df[[\"Height(Inches)\", \"Weight(Pounds)\"]].plot(kind = \"box\")\n",
        "plt.ylabel(\"Value\")\n",
        "plt.title(\"Boxplot of dataset\")\n",
        "plt.show()\n",
        "\n",
        "#EDA by df.describe()\n",
        "print(\"\\nEDA by df.describe():\", \"\\n\")\n",
        "print(df.describe())"
      ],
      "metadata": {
        "colab": {
          "base_uri": "https://localhost:8080/",
          "height": 857
        },
        "id": "CIfBzTa8vsvW",
        "outputId": "8000e384-e4c6-4567-8dba-74c3a115c66f"
      },
      "execution_count": null,
      "outputs": [
        {
          "output_type": "stream",
          "name": "stderr",
          "text": [
            "/usr/local/lib/python3.7/dist-packages/seaborn/distributions.py:2619: FutureWarning: `distplot` is a deprecated function and will be removed in a future version. Please adapt your code to use either `displot` (a figure-level function with similar flexibility) or `histplot` (an axes-level function for histograms).\n",
            "  warnings.warn(msg, FutureWarning)\n",
            "/usr/local/lib/python3.7/dist-packages/seaborn/distributions.py:2619: FutureWarning: `distplot` is a deprecated function and will be removed in a future version. Please adapt your code to use either `displot` (a figure-level function with similar flexibility) or `histplot` (an axes-level function for histograms).\n",
            "  warnings.warn(msg, FutureWarning)\n"
          ]
        },
        {
          "output_type": "display_data",
          "data": {
            "text/plain": [
              "<Figure size 432x288 with 1 Axes>"
            ],
            "image/png": "[encoded data removed]"
          },
          "metadata": {
            "needs_background": "light"
          }
        },
        {
          "output_type": "display_data",
          "data": {
            "text/plain": [
              "<Figure size 432x288 with 1 Axes>"
            ],
            "image/png": "[encoded data removed]"
          },
          "metadata": {
            "needs_background": "light"
          }
        },
        {
          "output_type": "stream",
          "name": "stdout",
          "text": [
            "\n",
            "EDA by df.describe(): \n",
            "\n",
            "              Index  Height(Inches)  Weight(Pounds)\n",
            "count  25000.000000    25000.000000    25000.000000\n",
            "mean   12500.500000       67.993114      127.079421\n",
            "std     7217.022701        1.901679       11.660898\n",
            "min        1.000000       60.278360       78.014760\n",
            "25%     6250.750000       66.704397      119.308675\n",
            "50%    12500.500000       67.995700      127.157750\n",
            "75%    18750.250000       69.272958      134.892850\n",
            "max    25000.000000       75.152800      170.924000\n"
          ]
        }
      ]
    },
    {
      "cell_type": "code",
      "source": [
        "#Detect outliners, threshold = 1\n",
        "outliner_row_index1 = detect_outliners(df[\"Height(Inches)\"], threshold = 1)\n",
        "outliner_row_index2 = detect_outliners(df[\"Weight(Pounds)\"], threshold = 1)\n",
        "\n",
        "#Print result\n",
        "print_outliners(outliner_row_index1, outliner_row_index2, threshold = 1)\n",
        "\n",
        "#Detect outliners, threshold = 3\n",
        "outliner_row_index1 = detect_outliners(df[\"Height(Inches)\"], threshold = 3)\n",
        "outliner_row_index2 = detect_outliners(df[\"Weight(Pounds)\"], threshold = 3)\n",
        "\n",
        "#Print result\n",
        "print_outliners(outliner_row_index1, outliner_row_index2, threshold = 3)"
      ],
      "metadata": {
        "colab": {
          "base_uri": "https://localhost:8080/"
        },
        "id": "KpCkI0WaYQB5",
        "outputId": "e07d67ac-586e-41bd-a378-c2430cb9b099"
      },
      "execution_count": null,
      "outputs": [
        {
          "output_type": "stream",
          "name": "stdout",
          "text": [
            "Results - Number of outliners found: 12495 , threshold 1 \n",
            "\n",
            " Index  Height(Inches)  Weight(Pounds)\n",
            "     1        65.78331        112.9925\n",
            "     2        71.51521        136.4873\n",
            "     3        69.39874        153.0269\n",
            "     4        68.21660        142.3354\n",
            "     5        67.78781        144.2971 \n",
            "\n",
            "Results - Number of outliners found: 114 , threshold 3 \n",
            "\n",
            " Index  Height(Inches)  Weight(Pounds)\n",
            "   139        73.90107        151.3913\n",
            "   175        73.83364        139.2983\n",
            "   250        65.93895         84.3598\n",
            "   368        72.32489        168.2290\n",
            "   413        62.01666        109.0848 \n",
            "\n"
          ]
        }
      ]
    },
    {
      "cell_type": "markdown",
      "source": [
        "Despite the question asks to detect outliners by threshold 1, it is easy to prone to outliners for multivariables dataset, therefore I have also put the result of threshold 3, for better description of outliners."
      ],
      "metadata": {
        "id": "JjdtA45_kD2C"
      }
    }
  ]
}