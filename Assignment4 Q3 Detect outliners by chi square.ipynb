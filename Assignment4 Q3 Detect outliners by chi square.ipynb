{
  "nbformat": 4,
  "nbformat_minor": 0,
  "metadata": {
    "colab": {
      "name": "Assignment4 - Q3 t - score.ipynb",
      "provenance": [],
      "collapsed_sections": [],
      "mount_file_id": "1GUMCWhm_yOiVDFX_5hPgZnxeNmCdX5g3",
      "authorship_tag": "ABX9TyNvXWiK8W7ISD/7IvC5mNWh"
    },
    "kernelspec": {
      "name": "python3",
      "display_name": "Python 3"
    },
    "language_info": {
      "name": "python"
    }
  },
  "cells": [
    {
      "cell_type": "code",
      "execution_count": 210,
      "metadata": {
        "colab": {
          "base_uri": "https://localhost:8080/",
          "height": 35
        },
        "id": "i2g4tHx3vKM-",
        "outputId": "a9b4513a-a5fb-4016-d97b-d9546c1d11e7"
      },
      "outputs": [
        {
          "output_type": "execute_result",
          "data": {
            "text/plain": [
              "'\\nCS6140 Assignment 4\\nQ3 Outlier Detection using Zscore\\nJul 14 2022\\nWing Man, Kwok\\n'"
            ],
            "application/vnd.google.colaboratory.intrinsic+json": {
              "type": "string"
            }
          },
          "metadata": {},
          "execution_count": 210
        }
      ],
      "source": [
        "'''\n",
        "CS6140 Assignment 4\n",
        "Q3 Outlier Detection using Zscore\n",
        "Jul 14 2022\n",
        "Wing Man, Kwok\n",
        "'''"
      ]
    },
    {
      "cell_type": "code",
      "source": [
        "import pandas as pd\n",
        "import seaborn as sns\n",
        "import matplotlib.pyplot as plt\n",
        "import numpy as np\n",
        "from numpy import sort\n",
        "from scipy.stats import t, chi2         # To compute T score and chi square"
      ],
      "metadata": {
        "id": "7m_UxlHIvpaV"
      },
      "execution_count": 211,
      "outputs": []
    },
    {
      "cell_type": "code",
      "source": [
        "#Data clean up\n",
        "\n",
        "df = pd.read_csv(\"/content/drive/MyDrive/Colab Notebooks/CS6140 Assignment4/HeightWeight.csv\")\n",
        "df = df.drop('Index', axis=1)     #drop index column \n",
        "\n",
        "df_mean = np.mean(df, axis = 0)\n",
        "df_std = np.std(df, axis = 0)\n",
        "df_standardized = (df - df_mean) / df_std\n",
        "print(df_standardized.head(5))\n",
        "\n",
        "#EDA for dataset visualization - distribution\n",
        "sns.distplot(df[\"Height(Inches)\"], label = \"Height(Inches)\")\n",
        "sns.distplot(df[\"Weight(Pounds)\"], label = \"Weight(Pounds)\")\n",
        "plt.xlabel(\"Unit\")\n",
        "plt.legend()\n",
        "plt.title(\"Distribution of raw dataset\")\n",
        "plt.show()\n",
        "\n",
        "#EDA by boxplot\n",
        "df_standardized[[\"Height(Inches)\", \"Weight(Pounds)\"]].plot(kind = \"box\")\n",
        "plt.ylabel(\"Value\")\n",
        "plt.title(\"Boxplot of standardized dataset\")\n",
        "plt.show()\n",
        "\n",
        "#EDA by df.describe()\n",
        "print(\"\\nEDA by df.describe():\", \"\\n\")\n",
        "print(df.describe())"
      ],
      "metadata": {
        "colab": {
          "base_uri": "https://localhost:8080/",
          "height": 961
        },
        "id": "CIfBzTa8vsvW",
        "outputId": "13b12458-eca6-44d5-e855-94de07a84326"
      },
      "execution_count": 212,
      "outputs": [
        {
          "output_type": "stream",
          "name": "stdout",
          "text": [
            "   Height(Inches)  Weight(Pounds)\n",
            "0       -1.162051       -1.208072\n",
            "1        1.852136        0.806805\n",
            "2        0.739165        2.225214\n",
            "3        0.117523        1.308328\n",
            "4       -0.107961        1.476561\n"
          ]
        },
        {
          "output_type": "stream",
          "name": "stderr",
          "text": [
            "/usr/local/lib/python3.7/dist-packages/seaborn/distributions.py:2619: FutureWarning: `distplot` is a deprecated function and will be removed in a future version. Please adapt your code to use either `displot` (a figure-level function with similar flexibility) or `histplot` (an axes-level function for histograms).\n",
            "  warnings.warn(msg, FutureWarning)\n",
            "/usr/local/lib/python3.7/dist-packages/seaborn/distributions.py:2619: FutureWarning: `distplot` is a deprecated function and will be removed in a future version. Please adapt your code to use either `displot` (a figure-level function with similar flexibility) or `histplot` (an axes-level function for histograms).\n",
            "  warnings.warn(msg, FutureWarning)\n"
          ]
        },
        {
          "output_type": "display_data",
          "data": {
            "text/plain": [
              "<Figure size 432x288 with 1 Axes>"
            ],
            "image/png": "[encoded data removed]"
          },
          "metadata": {
            "needs_background": "light"
          }
        },
        {
          "output_type": "display_data",
          "data": {
            "text/plain": [
              "<Figure size 432x288 with 1 Axes>"
            ],
            "image/png": "[encoded data removed]"
          },
          "metadata": {
            "needs_background": "light"
          }
        },
        {
          "output_type": "stream",
          "name": "stdout",
          "text": [
            "\n",
            "EDA by df.describe(): \n",
            "\n",
            "       Height(Inches)  Weight(Pounds)\n",
            "count    25000.000000    25000.000000\n",
            "mean        67.993114      127.079421\n",
            "std          1.901679       11.660898\n",
            "min         60.278360       78.014760\n",
            "25%         66.704397      119.308675\n",
            "50%         67.995700      127.157750\n",
            "75%         69.272958      134.892850\n",
            "max         75.152800      170.924000\n"
          ]
        }
      ]
    },
    {
      "cell_type": "code",
      "source": [
        "def compute_grubs_threshold(N):\n",
        "  \n",
        "  print(\"Total number of samples:\", N)\n",
        "  alpha = 0.95\n",
        "  t_val = t.ppf(1 - alpha / (2 * N), N - 2)\n",
        "  grubs_threshold = ((N-1)/np.sqrt(N)) * (np.sqrt(t_val**2 / ((N-2 + t_val**2))))\n",
        "\n",
        "  return grubs_threshold"
      ],
      "metadata": {
        "id": "3lciJ29EXjUh"
      },
      "execution_count": 213,
      "outputs": []
    },
    {
      "cell_type": "code",
      "source": [
        "def detect_outliners(df):\n",
        "  pass"
      ],
      "metadata": {
        "id": "PsAuw3FY4hx3"
      },
      "execution_count": 214,
      "outputs": []
    },
    {
      "cell_type": "code",
      "source": [
        "def print_outliners(outliner_row_index1,outliner_row_index2, threshold):\n",
        "  outliners_index = np.append(outliner_row_index1,outliner_row_index2)\n",
        "  outliners_index = np.unique(outliners_index)\n",
        "  outliners_index.sort(kind='mergesort')\n",
        "  num_outliners = outliners_index.size\n",
        "\n",
        "  print(\"Results - Number of outliners found:\", num_outliners, \", threshold\", threshold, \"\\n\")\n",
        "  print(df.iloc[outliners_index].head(5).to_string(index = False), \"\\n\")"
      ],
      "metadata": {
        "id": "H0duCbg7hONI"
      },
      "execution_count": 215,
      "outputs": []
    },
    {
      "cell_type": "code",
      "source": [
        "#Detect outliners\n",
        "grubs_threshold = compute_grubs_threshold(N = df.shape[0])\n",
        "print(\"grubs_threshold\", grubs_threshold, \"\\n\")\n",
        "\n",
        "df_standardized[\"Height_grub\"] = df_standardized[\"Height(Inches)\"].abs() >= grubs_threshold\n",
        "df_standardized[\"Weight_grub\"] = df_standardized[\"Weight(Pounds)\"].abs() >= grubs_threshold\n",
        "\n",
        "print(\"Univariate outliners - Height:\")\n",
        "print(\"------------------------------\")\n",
        "print(df_standardized.loc[df_standardized[\"Height_grub\"] == True], \"\\n\") \n",
        "\n",
        "print(\"Univariate outliners - Weight:\")\n",
        "print(\"------------------------------\")\n",
        "print(df_standardized.loc[df_standardized[\"Weight_grub\"] == True], \"\\n\")\n",
        "\n",
        "print(\"Sum of Squares\")\n",
        "print(\"--------------\")\n",
        "df_standardized[\"sum_of_square\"] = (df_standardized[[\"Height(Inches)\", \"Weight(Pounds)\"]] ** 2 ).sum(axis = 1)\n",
        "print(df_standardized, \"\\n\")\n",
        "\n",
        "chi_square_threhold = chi2.ppf(q = 0.95, df = len(df.columns))\n",
        "print(\"chi_square_threhold:\", chi_square_threhold, \"\\n\")\n",
        "\n",
        "df_standardized[\"Multivariate_Outliner\"] = df_standardized[\"sum_of_square\"] > chi_square_threhold\n",
        "print(\"Number of multivariate outliners found:\", len(df_standardized.loc[df_standardized[\"Multivariate_Outliner\"] == True]), \"\\n\")\n",
        "print(\"First 5 Multivariate outliners:\")\n",
        "print(\"-------------------------------\")\n",
        "print(df_standardized.loc[df_standardized[\"Multivariate_Outliner\"] == True].head(5), \"\\n\") "
      ],
      "metadata": {
        "colab": {
          "base_uri": "https://localhost:8080/"
        },
        "id": "KpCkI0WaYQB5",
        "outputId": "6d2a547f-8280-41fb-a4f6-18991c17d357"
      },
      "execution_count": 216,
      "outputs": [
        {
          "output_type": "stream",
          "name": "stdout",
          "text": [
            "Total number of samples: 25000\n",
            "grubs_threshold 4.118657449717094 \n",
            "\n",
            "Univariate outliners - Height:\n",
            "------------------------------\n",
            "Empty DataFrame\n",
            "Columns: [Height(Inches), Weight(Pounds), Height_grub, Weight_grub]\n",
            "Index: [] \n",
            "\n",
            "Univariate outliners - Weight:\n",
            "------------------------------\n",
            "       Height(Inches)  Weight(Pounds)  Height_grub  Weight_grub\n",
            "14106       -3.200322       -4.160275        False         True\n",
            "22945       -3.190257       -4.207707        False         True \n",
            "\n",
            "Sum of Squares\n",
            "-----------\n",
            "       Height(Inches)  Weight(Pounds)  Height_grub  Weight_grub  sum_of_square\n",
            "0           -1.162051       -1.208072        False        False       2.809800\n",
            "1            1.852136        0.806805        False        False       4.081340\n",
            "2            0.739165        2.225214        False        False       5.497944\n",
            "3            0.117523        1.308328        False        False       1.725535\n",
            "4           -0.107961        1.476561        False        False       2.191887\n",
            "...               ...             ...          ...          ...            ...\n",
            "24995        0.793544       -0.775961        False        False       1.231828\n",
            "24996       -1.811517       -0.590551        False        False       3.630343\n",
            "24997       -1.732485       -0.755868        False        False       3.572840\n",
            "24998       -0.243965        0.444981        False        False       0.257527\n",
            "24999        0.465123       -0.189116        False        False       0.252104\n",
            "\n",
            "[25000 rows x 5 columns] \n",
            "\n",
            "chi_square_threhold 5.991464547107979 \n",
            "\n",
            "Number of multivariate outliners found: 1516 \n",
            "\n",
            "First 5 Multivariate outliners:\n",
            "-------------------------------\n",
            "    Height(Inches)  Weight(Pounds)  Height_grub  Weight_grub  sum_of_square  \\\n",
            "22       -2.372669       -2.502217        False        False      11.890646   \n",
            "39       -2.075978       -1.746720        False        False       7.360715   \n",
            "56        1.268934        2.471495        False        False       7.718483   \n",
            "73       -1.949913       -2.079154        False        False       8.125043   \n",
            "82        1.082411        2.426730        False        False       7.060629   \n",
            "\n",
            "    Multivariate_Outliner  \n",
            "22                   True  \n",
            "39                   True  \n",
            "56                   True  \n",
            "73                   True  \n",
            "82                   True   \n",
            "\n"
          ]
        }
      ]
    }
  ]
}